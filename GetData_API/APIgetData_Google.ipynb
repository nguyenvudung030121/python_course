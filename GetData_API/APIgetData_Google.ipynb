{
 "cells": [
  {
   "cell_type": "markdown",
   "metadata": {},
   "source": [
    "LẤY DATA Trong Page"
   ]
  },
  {
   "cell_type": "code",
   "execution_count": 46,
   "metadata": {},
   "outputs": [
    {
     "name": "stdout",
     "output_type": "stream",
     "text": [
      "[]\n"
     ]
    }
   ],
   "source": [
    "from lxml import html\n",
    "import requests\n",
    "page = requests.get('https://demo.guru99.com/test/selenium-xpath.html' )\n",
    "tree = html.fromstring(page.content)\n",
    "text = tree.xpath('//div[@class=\"featured-box cloumnsize1\"]//h4[2]//b[1]')\n",
    "\n",
    "\n",
    "print(text[0].text)\n"
   ]
  },
  {
   "cell_type": "markdown",
   "metadata": {},
   "source": [
    "Tìm selector có: 'name' có chứa btn"
   ]
  },
  {
   "cell_type": "code",
   "execution_count": 19,
   "metadata": {},
   "outputs": [
    {
     "name": "stdout",
     "output_type": "stream",
     "text": [
      "submit\n",
      "btnLogin\n"
     ]
    }
   ],
   "source": [
    "from lxml import html\n",
    "import requests\n",
    "page = requests.get('https://demo.guru99.com/' )\n",
    "tree = html.fromstring(page.content)\n",
    "inputType = tree.xpath('//*[contains(@name,\"btn\")]')\n",
    "print(inputType[0].type)\n",
    "print(inputType[0].name)"
   ]
  },
  {
   "cell_type": "code",
   "execution_count": 25,
   "metadata": {},
   "outputs": [
    {
     "name": "stdout",
     "output_type": "stream",
     "text": [
      "<Element td at 0x14ff0065368>\n"
     ]
    }
   ],
   "source": [
    "from lxml import html\n",
    "import requests\n",
    "page = requests.get('https://demo.guru99.com/')\n",
    "tree = html.fromstring(page.content)\n",
    "inputType = tree.xpath('//*[contains(@align,\"right\")]')\n",
    "print(inputType[0])\n"
   ]
  },
  {
   "cell_type": "markdown",
   "metadata": {},
   "source": [
    "#Lấy Data Bài hát"
   ]
  },
  {
   "cell_type": "code",
   "execution_count": 99,
   "metadata": {},
   "outputs": [
    {
     "name": "stdout",
     "output_type": "stream",
     "text": [
      "Song: Đừng hỏi em, Album: Tâm 9, year: 2017\n",
      "Song: Người hãy quên em đi, Album: Tâm 9, year: 2017\n",
      "Song: Chuyện như chưa bắt đầu, Album: Chuyện Như Chưa Bắt Đầu, year: 2012\n",
      "Song: Đúng Cũng Thành Sai, Album: Đúng Cũng Thành Sai, year: 2020\n"
     ]
    }
   ],
   "source": [
    "import requests\n",
    "from lxml import html\n",
    "string = \"my tam\"\n",
    "link = \"https://www.google.com/search?q=\"\n",
    "query_String = string.strip().replace(' ','+')\n",
    "\n",
    "google_url = link + query_String\n",
    "headers = {\n",
    "    'User-Agent': 'Mozilla/5.0 (Windows NT 10.0; Win64; x64) AppleWebKit/537.36 (KHTML, like Gecko) Chrome/107.0.5304.107 Safari/537.36 Edg/89.0.774.57'\n",
    "}\n",
    "page = requests.get(google_url, headers=headers)\n",
    "tree = html.fromstring(page.content)\n",
    "\n",
    "\n",
    "song = tree.xpath(\n",
    "    '//*[@class=\"AxJnmb\"]//div[@class=\"PZPZlf\"]//*[@class=\"title\"]')\n",
    "album = tree.xpath('//*[@class=\"AxJnmb\"]//div[@class=\"PZPZlf\"]//*[@class=\"uDMnUc\"]//span[1]')\n",
    "year_release = tree.xpath(\n",
    "    '//*[@class=\"AxJnmb\"]//div[@class=\"PZPZlf\"]//*[@class=\"uDMnUc\"]//span[2]')\n",
    "\n",
    "\n",
    "for i in range(0,len(song)):\n",
    "    print(\"Song: \"+song[i].text,end=\", \")\n",
    "    print(\"Album: \"+album[i].text,end=\", \")\n",
    "    print(\"year: \"+year_release[i].text)\n",
    "    \n",
    "\n",
    "# print(text)\n"
   ]
  },
  {
   "cell_type": "markdown",
   "metadata": {},
   "source": [
    "Lấy data Album"
   ]
  },
  {
   "cell_type": "code",
   "execution_count": 108,
   "metadata": {},
   "outputs": [
    {
     "name": "stdout",
     "output_type": "stream",
     "text": [
      "[<Element div at 0x2064ab36188>]\n"
     ]
    }
   ],
   "source": [
    "import requests\n",
    "from lxml import html\n",
    "string = \"my tam\"\n",
    "link = \"https://www.google.com/search?q=\"\n",
    "query_String = string.strip().replace(' ', '+')\n",
    "\n",
    "google_url = link + query_String\n",
    "headers = {\n",
    "    'User-Agent': 'Mozilla/5.0 (Windows NT 10.0; Win64; x64) AppleWebKit/537.36 (KHTML, like Gecko) Chrome/107.0.5304.107 Safari/537.36 Edg/89.0.774.57'\n",
    "}\n",
    "page = requests.get(google_url, headers=headers)\n",
    "tree = html.fromstring(page.content)\n",
    "\n",
    "\n",
    "album = tree.xpath(\n",
    "    '//*[@class=\"zVvuGd MRfBrb\"]//div[@class=\"PZPZlf MRfBrb kno-vrt-t\"]//*[@class=\"fl ellip oBrLN ZwRhJd\"]')\n",
    "year_release = tree.xpath(\n",
    "    '//*[@class=\"zVvuGd MRfBrb\"]//div[@class=\"PZPZlf MRfBrb kno-vrt-t\"]//*[@class=\"xlBGCb ellip\"]')\n",
    "\n",
    "\n",
    "for i in range(0, len(album)):\n",
    "    print(\"Album: \"+album[i].text, end=\", \")\n",
    "    print(\"year: \"+year_release[i].text)\n",
    "\n",
    "# text = tree.xpath(\n",
    "#     '//*[@class=\"zVvuGd MRfBrb\"]//div[@class=\"PZPZlf MRfBrb kno-vrt-t\"]')\n",
    "# print(text)\n"
   ]
  },
  {
   "cell_type": "markdown",
   "metadata": {},
   "source": [
    "Get Social Media"
   ]
  },
  {
   "cell_type": "code",
   "execution_count": 136,
   "metadata": {},
   "outputs": [
    {
     "name": "stdout",
     "output_type": "stream",
     "text": [
      "Social Media: YouTube - Link: https://www.youtube.com/channel/UCmgGhZ_OMFGRn5cbfd4Svrw?feature=gws_kp_artist&feature=gws_kp_artist\n",
      "Social Media: Spotify - Link: https://open.spotify.com/artist/1CWwyDPjCowRTO4p6A7r6g?autoplay=true\n",
      "Social Media: Apple Music - Link: https://music.apple.com/vn/artist/m%E1%BB%B9-t%C3%A2m/1492507625\n",
      "Social Media: Deezer - Link: https://www.deezer.com/artist/863447/radio?autoplay=true\n"
     ]
    }
   ],
   "source": [
    "import requests\n",
    "from lxml import html\n",
    "string = \"my tam\"\n",
    "link = \"https://www.google.com/search?q=\"\n",
    "query_String = string.strip().replace(' ', '+')\n",
    "\n",
    "google_url = link + query_String\n",
    "headers = {\n",
    "    'User-Agent': 'Mozilla/5.0 (Windows NT 10.0; Win64; x64) AppleWebKit/537.36 (KHTML, like Gecko) Chrome/107.0.5304.107 Safari/537.36 Edg/89.0.774.57'\n",
    "}\n",
    "page = requests.get(google_url, headers=headers)\n",
    "tree = html.fromstring(page.content)\n",
    "\n",
    "\n",
    "link = tree.xpath('//*[contains(@class,\"JkUS4b\")]//@href')\n",
    "    \n",
    "name_of_SocialMedia = tree.xpath(\n",
    "    '//*[contains(@class,\"JkUS4b\")]//*[@class=\"i3LlFf\"]')\n",
    "\n",
    "# print(link)\n",
    "for i in range(0, len(link)):\n",
    "    print(\"Social Media: \"+name_of_SocialMedia[i].text, end=\" - \")\n",
    "    print(\"Link: \"+link[i])\n",
    "\n"
   ]
  },
  {
   "cell_type": "markdown",
   "metadata": {},
   "source": [
    "Thông tin ca sĩ"
   ]
  },
  {
   "cell_type": "code",
   "execution_count": 201,
   "metadata": {},
   "outputs": [
    {
     "name": "stdout",
     "output_type": "stream",
     "text": [
      "Giới thiệu:  Phan Thị Mỹ Tâm, thường được biết đến với nghệ danh Mỹ Tâm, là một nữ ca sĩ kiêm sáng tác nhạc, đạo diễn, diễn viên và giám khảo truyền hình người Việt Nam. Được mệnh danh là \"Nữ hoàng V-pop\", nhiều tác giả và nhà báo trong nước lẫn quốc tế từng nhìn nhận cô là một trong những nữ nghệ sĩ có ảnh hưởng lớn tại Việt Nam.\n",
      "Ngày/nơi sinh:\n",
      "Chiều cao:\n",
      "Quốc tịch:\n",
      "Hãng thu âm:\n",
      "Giải thưởng:\n"
     ]
    }
   ],
   "source": [
    "import requests\n",
    "from lxml import html\n",
    "string = \"my tam\"\n",
    "link = \"https://www.google.com/search?q=\"\n",
    "query_String = string.strip().replace(' ', '+')\n",
    "\n",
    "google_url = link + query_String\n",
    "headers = {\n",
    "    'User-Agent': 'Mozilla/5.0 (Windows NT 10.0; Win64; x64) AppleWebKit/537.36 (KHTML, like Gecko) Chrome/107.0.5304.107 Safari/537.36 Edg/89.0.774.57'\n",
    "}\n",
    "page = requests.get(google_url, headers=headers)\n",
    "tree = html.fromstring(page.content)\n",
    "\n",
    "\n",
    "Biography = tree.xpath('//*[contains(@jsname,\"g7W7Ed\")]//span[1]')\n",
    "\n",
    "DoB_title = tree.xpath(\n",
    "    '//*[contains(@class,\"w8qArf\")]//text()')\n",
    "\n",
    "DoB = tree.xpath(\n",
    "    '//*[contains(@class,\"LrzXr kno-fv wHYlTd z8gr9e\")]/text()')\n",
    "Place_of_birth = tree.xpath(\n",
    "    '//*[contains(@class,\"fl\")]/text()')\n",
    "\n",
    "print(\"Giới thiệu: \",Biography[0].text)\n",
    "for i in range(0,len(DoB_title)):\n",
    "    if(DoB_title[i] != \":\" and DoB_title[i] != \" \"):\n",
    "        print(DoB_title[i]+\": \")\n",
    "# print(DoB)\n"
   ]
  }
 ],
 "metadata": {
  "kernelspec": {
   "display_name": "Python 3.7.13 ('python_course')",
   "language": "python",
   "name": "python3"
  },
  "language_info": {
   "codemirror_mode": {
    "name": "ipython",
    "version": 3
   },
   "file_extension": ".py",
   "mimetype": "text/x-python",
   "name": "python",
   "nbconvert_exporter": "python",
   "pygments_lexer": "ipython3",
   "version": "3.7.13"
  },
  "orig_nbformat": 4,
  "vscode": {
   "interpreter": {
    "hash": "ec34aa38ac539c519b7744867197572079d9fa73b2a844201618a04fcc58de8b"
   }
  }
 },
 "nbformat": 4,
 "nbformat_minor": 2
}
