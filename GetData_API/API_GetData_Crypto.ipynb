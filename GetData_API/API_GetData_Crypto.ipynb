{
 "cells": [
  {
   "cell_type": "code",
   "execution_count": 3,
   "metadata": {},
   "outputs": [],
   "source": [
    "import requests\n",
    "import pandas as pd\n",
    "apiKey = \"8c59361d9d05e34d6047ef8ded4d83eb4af66a676abd6bffd3d557d01ea798a7\"\n",
    "crypto = \"BTC\"\n",
    "header = 'fsym=' + str(crypto)"
   ]
  },
  {
   "cell_type": "markdown",
   "metadata": {},
   "source": [
    "GET: Price"
   ]
  },
  {
   "cell_type": "code",
   "execution_count": 4,
   "metadata": {},
   "outputs": [
    {
     "name": "stdout",
     "output_type": "stream",
     "text": [
      "https://min-api.cryptocompare.com/data/price?fsym=BTC&tsyms=VND,USD,JPY,EUR,CHN&api_key=8c59361d9d05e34d6047ef8ded4d83eb4af66a676abd6bffd3d557d01ea798a7\n",
      "{'VND': 397832832, 'USD': 16816.23, 'JPY': 2349033.81, 'EUR': 16162.85, 'CHN': 651.3}\n"
     ]
    }
   ],
   "source": [
    "Link = \"https://min-api.cryptocompare.com/data/price?fsym=BTC&tsyms=USD,JPY,EUR,VND\"\n",
    "\n",
    "import requests\n",
    "import pandas as pd\n",
    "import csv \n",
    "apiKey = \"8c59361d9d05e34d6047ef8ded4d83eb4af66a676abd6bffd3d557d01ea798a7\"\n",
    "crypto = \"BTC\"\n",
    "header = 'fsym=' + str(crypto)\n",
    "frequency = 'price'\n",
    "currency = '&tsyms=VND,USD,JPY,EUR,CHN'\n",
    "API_KEY = '&api_key=' + str(apiKey)\n",
    "url = 'https://min-api.cryptocompare.com/data/' + frequency + '?' + header + currency + API_KEY\n",
    "\n",
    "print(url)\n",
    "response = requests.get(url).json()\n",
    "print(response)\n"
   ]
  },
  {
   "cell_type": "markdown",
   "metadata": {},
   "source": [
    "GET: History"
   ]
  },
  {
   "cell_type": "code",
   "execution_count": 77,
   "metadata": {},
   "outputs": [
    {
     "name": "stdout",
     "output_type": "stream",
     "text": [
      "https://min-api.cryptocompare.com/data/v2/histohour?fsym=BTC&tsym=USD&api_key=8c59361d9d05e34d6047ef8ded4d83eb4af66a676abd6bffd3d557d01ea798a7&limit=100\n",
      "dict_keys(['Aggregated', 'TimeFrom', 'TimeTo', 'Data'])\n",
      "         time      high       low      open  volumefrom      volumeto  \\\n",
      "0  1668160800  17382.03  17205.30  17355.53     2736.21  4.729342e+07   \n",
      "1  1668164400  17427.22  17264.54  17294.72     2497.16  4.340517e+07   \n",
      "2  1668168000  17387.21  17229.52  17323.74     3265.62  5.661294e+07   \n",
      "3  1668171600  17510.90  17277.41  17377.33     3129.29  5.451449e+07   \n",
      "4  1668175200  17287.59  16383.43  17284.56    14511.92  2.432297e+08   \n",
      "\n",
      "      close conversionType conversionSymbol  \n",
      "0  17294.72         direct                   \n",
      "1  17323.74         direct                   \n",
      "2  17377.33         direct                   \n",
      "3  17284.56         direct                   \n",
      "4  16893.12         direct                   \n"
     ]
    }
   ],
   "source": [
    "import requests\n",
    "import pandas as pd\n",
    "import csv \n",
    "apiKey = \"8c59361d9d05e34d6047ef8ded4d83eb4af66a676abd6bffd3d557d01ea798a7\"\n",
    "crypto = \"BTC\"\n",
    "header = 'fsym=' + str(crypto)\n",
    "maxRecords = 100\n",
    "frequency = \"hour\"\n",
    "API_KEY = '&api_key=' + str(apiKey)\n",
    "limit = '&limit=' + str(maxRecords)\n",
    "currency = '&tsym=USD'\n",
    "url = 'https://min-api.cryptocompare.com/data/v2/histo' + frequency + '?' + header + currency + API_KEY + limit\n",
    "print(url)\n",
    "response = requests.get(url).json()\n",
    "\n",
    "# df = pd.DataFrame.from_dict(data=response,orient='index')\n",
    "\n",
    "# print(response.keys())\n",
    "\n",
    "# print(response['Data'])\n",
    "print(response['Data'].keys())\n",
    "\n",
    "# print(response['Data']['Data'])\n",
    "\n",
    "df = pd.DataFrame.from_dict(response['Data']['Data'])\n",
    "df.to_csv('dataCrypto/History.csv')  \n",
    "print(df.head())"
   ]
  },
  {
   "cell_type": "markdown",
   "metadata": {},
   "source": [
    "GET: Block Chain"
   ]
  },
  {
   "cell_type": "code",
   "execution_count": 6,
   "metadata": {},
   "outputs": [
    {
     "name": "stdout",
     "output_type": "stream",
     "text": [
      "https://min-api.cryptocompare.com/data/blockchain/list&api_key=8c59361d9d05e34d6047ef8ded4d83eb4af66a676abd6bffd3d557d01ea798a7\n",
      "{'Response': 'Error', 'Message': 'Path does not exist', 'Type': 0, 'Data': {}}\n"
     ]
    }
   ],
   "source": [
    "Link_BlockChain = \"https://min-api.cryptocompare.com/data/blockchain/list\"\n",
    "\n",
    "import requests\n",
    "import pandas as pd\n",
    "apiKey = \"8c59361d9d05e34d6047ef8ded4d83eb4af66a676abd6bffd3d557d01ea798a7\"\n",
    "type = 'list'\n",
    "API_KEY = '&api_key=' + str(apiKey)\n",
    "url = 'https://min-api.cryptocompare.com/data/blockchain/'+type+API_KEY\n",
    "response = requests.get(url).json()\n",
    "\n",
    "print(url)\n",
    "\n",
    "print(response)\n",
    "\n"
   ]
  },
  {
   "cell_type": "markdown",
   "metadata": {},
   "source": [
    "GET: Trading Signals"
   ]
  },
  {
   "cell_type": "code",
   "execution_count": 21,
   "metadata": {},
   "outputs": [
    {
     "name": "stdout",
     "output_type": "stream",
     "text": [
      "https://min-api.cryptocompare.com/data/tradingsignals/intotheblock/latest?fsym=BTC\n",
      "                                                                    0\n",
      "id                                                               1182\n",
      "time                                                       1668384000\n",
      "symbol                                                            BTC\n",
      "partner_symbol                                                    BTC\n",
      "inOutVar            {'category': 'on_chain', 'sentiment': 'bearish...\n",
      "largetxsVar         {'category': 'on_chain', 'sentiment': 'bearish...\n",
      "addressesNetGrowth  {'category': 'on_chain', 'sentiment': 'bearish...\n",
      "concentrationVar    {'category': 'on_chain', 'sentiment': 'neutral...\n"
     ]
    }
   ],
   "source": [
    "link = 'https://min-api.cryptocompare.com/data/tradingsignals/intotheblock/latest?fsym=BTC'\n",
    "import requests\n",
    "import csv \n",
    "import pandas as pd\n",
    "apiKey = \"8c59361d9d05e34d6047ef8ded4d83eb4af66a676abd6bffd3d557d01ea798a7\"\n",
    "crypto = \"BTC\"\n",
    "header = 'fsym=' + str(crypto)\n",
    "API_KEY = '&api_key=' + str(apiKey)\n",
    "url = 'https://min-api.cryptocompare.com/data/tradingsignals/intotheblock/latest?' + header\n",
    "\n",
    "print(url)\n",
    "\n",
    "response = requests.get(url).json()\n",
    "# with open('dataCrypto/TradingSignal_Crypto.csv', 'w') as csv_file:  \n",
    "#     writer = csv.writer(csv_file)\n",
    "#     for key, value in response.items():\n",
    "#        writer.writerow([key, value])\n",
    "\n",
    "df = pd.DataFrame.from_dict(data=response['Data'],orient='index')\n",
    "print(df)\n",
    "\n"
   ]
  }
 ],
 "metadata": {
  "kernelspec": {
   "display_name": "Python 3.7.13 ('python_course')",
   "language": "python",
   "name": "python3"
  },
  "language_info": {
   "codemirror_mode": {
    "name": "ipython",
    "version": 3
   },
   "file_extension": ".py",
   "mimetype": "text/x-python",
   "name": "python",
   "nbconvert_exporter": "python",
   "pygments_lexer": "ipython3",
   "version": "3.7.13"
  },
  "orig_nbformat": 4,
  "vscode": {
   "interpreter": {
    "hash": "ec34aa38ac539c519b7744867197572079d9fa73b2a844201618a04fcc58de8b"
   }
  }
 },
 "nbformat": 4,
 "nbformat_minor": 2
}
