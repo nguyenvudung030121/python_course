{
 "cells": [
  {
   "cell_type": "code",
   "execution_count": 4,
   "metadata": {},
   "outputs": [],
   "source": [
    "import requests\n",
    "apiKey = \"8c59361d9d05e34d6047ef8ded4d83eb4af66a676abd6bffd3d557d01ea798a7\"\n",
    "crypto = \"BTC\"\n",
    "header = 'fsym=' + str(crypto)"
   ]
  },
  {
   "cell_type": "markdown",
   "metadata": {},
   "source": [
    "GET: Price"
   ]
  },
  {
   "cell_type": "code",
   "execution_count": 2,
   "metadata": {},
   "outputs": [],
   "source": [
    "Link = \"https://min-api.cryptocompare.com/data/price?fsym=BTC&tsyms=USD,JPY,EUR,VND\"\n",
    "\n",
    "\n"
   ]
  },
  {
   "cell_type": "markdown",
   "metadata": {},
   "source": [
    "GET: History"
   ]
  },
  {
   "cell_type": "code",
   "execution_count": 3,
   "metadata": {},
   "outputs": [
    {
     "name": "stdout",
     "output_type": "stream",
     "text": [
      "https://min-api.cryptocompare.com/data/v2/histohour?fsym=BTC&tsym=USD&api_key=8c59361d9d05e34d6047ef8ded4d83eb4af66a676abd6bffd3d557d01ea798a7&limit=100\n",
      "{'Response': 'Success', 'Message': '', 'HasWarning': False, 'Type': 100, 'RateLimit': {}, 'Data': {'Aggregated': False, 'TimeFrom': 1667624400, 'TimeTo': 1667984400, 'Data': [{'time': 1667624400, 'high': 21429.49, 'low': 21367.88, 'open': 21369.58, 'volumefrom': 967.4, 'volumeto': 20703704.32, 'close': 21391.88, 'conversionType': 'direct', 'conversionSymbol': ''}, {'time': 1667628000, 'high': 21441.88, 'low': 21376.39, 'open': 21391.88, 'volumefrom': 940.76, 'volumeto': 20139890.37, 'close': 21406.05, 'conversionType': 'direct', 'conversionSymbol': ''}, {'time': 1667631600, 'high': 21416.52, 'low': 21386.43, 'open': 21406.05, 'volumefrom': 673.62, 'volumeto': 14416013.51, 'close': 21388.83, 'conversionType': 'direct', 'conversionSymbol': ''}, {'time': 1667635200, 'high': 21391.5, 'low': 21244.69, 'open': 21388.83, 'volumefrom': 1908.83, 'volumeto': 40677817.24, 'close': 21295.09, 'conversionType': 'direct', 'conversionSymbol': ''}, {'time': 1667638800, 'high': 21326.3, 'low': 21244.62, 'open': 21295.09, 'volumefrom': 1206.37, 'volumeto': 25676437.97, 'close': 21291.43, 'conversionType': 'direct', 'conversionSymbol': ''}, {'time': 1667642400, 'high': 21324.01, 'low': 21286.66, 'open': 21291.43, 'volumefrom': 838.56, 'volumeto': 17867028.75, 'close': 21321.33, 'conversionType': 'direct', 'conversionSymbol': ''}, {'time': 1667646000, 'high': 21425.72, 'low': 21316.46, 'open': 21321.33, 'volumefrom': 1763.3, 'volumeto': 37713559.03, 'close': 21406.67, 'conversionType': 'direct', 'conversionSymbol': ''}, {'time': 1667649600, 'high': 21422.96, 'low': 21291.07, 'open': 21406.67, 'volumefrom': 1785.23, 'volumeto': 38090475.58, 'close': 21313.02, 'conversionType': 'direct', 'conversionSymbol': ''}, {'time': 1667653200, 'high': 21325.72, 'low': 21252.1, 'open': 21313.02, 'volumefrom': 1213.98, 'volumeto': 25837442.65, 'close': 21273.19, 'conversionType': 'direct', 'conversionSymbol': ''}, {'time': 1667656800, 'high': 21329.22, 'low': 21217.28, 'open': 21273.19, 'volumefrom': 1719.02, 'volumeto': 36562610.08, 'close': 21278.85, 'conversionType': 'direct', 'conversionSymbol': ''}, {'time': 1667660400, 'high': 21352.64, 'low': 21268.79, 'open': 21278.85, 'volumefrom': 1230.24, 'volumeto': 26215110.47, 'close': 21301.34, 'conversionType': 'direct', 'conversionSymbol': ''}, {'time': 1667664000, 'high': 21344.82, 'low': 21299.83, 'open': 21301.34, 'volumefrom': 867.03, 'volumeto': 18490110.48, 'close': 21324.84, 'conversionType': 'direct', 'conversionSymbol': ''}, {'time': 1667667600, 'high': 21335.5, 'low': 21272.12, 'open': 21324.84, 'volumefrom': 972.75, 'volumeto': 20732741.78, 'close': 21322.38, 'conversionType': 'direct', 'conversionSymbol': ''}, {'time': 1667671200, 'high': 21334.35, 'low': 21264.44, 'open': 21322.38, 'volumefrom': 1399.1, 'volumeto': 29795605.99, 'close': 21293.06, 'conversionType': 'direct', 'conversionSymbol': ''}, {'time': 1667674800, 'high': 21345.92, 'low': 21288.01, 'open': 21293.06, 'volumefrom': 1112.27, 'volumeto': 23711134.81, 'close': 21332.37, 'conversionType': 'direct', 'conversionSymbol': ''}, {'time': 1667678400, 'high': 21377.57, 'low': 21324.67, 'open': 21332.37, 'volumefrom': 861.99, 'volumeto': 18402229.19, 'close': 21357.38, 'conversionType': 'direct', 'conversionSymbol': ''}, {'time': 1667682000, 'high': 21360.71, 'low': 21327.32, 'open': 21357.38, 'volumefrom': 591.13, 'volumeto': 12613729.17, 'close': 21336.17, 'conversionType': 'direct', 'conversionSymbol': ''}, {'time': 1667685600, 'high': 21347.78, 'low': 21292.53, 'open': 21336.17, 'volumefrom': 667.3, 'volumeto': 14226450.22, 'close': 21300.23, 'conversionType': 'direct', 'conversionSymbol': ''}, {'time': 1667689200, 'high': 21312.6, 'low': 21242.3, 'open': 21300.23, 'volumefrom': 1121.02, 'volumeto': 23851625.43, 'close': 21301.57, 'conversionType': 'direct', 'conversionSymbol': ''}, {'time': 1667692800, 'high': 21363.27, 'low': 21293.75, 'open': 21301.57, 'volumefrom': 1114.27, 'volumeto': 23768246.21, 'close': 21326.29, 'conversionType': 'direct', 'conversionSymbol': ''}, {'time': 1667696400, 'high': 21345.55, 'low': 21198.33, 'open': 21326.29, 'volumefrom': 1696.4, 'volumeto': 36080046.41, 'close': 21200.78, 'conversionType': 'direct', 'conversionSymbol': ''}, {'time': 1667700000, 'high': 21280.22, 'low': 21197.92, 'open': 21200.78, 'volumefrom': 1063.46, 'volumeto': 22586868.46, 'close': 21240.46, 'conversionType': 'direct', 'conversionSymbol': ''}, {'time': 1667703600, 'high': 21255.22, 'low': 21211.3, 'open': 21240.46, 'volumefrom': 582.4, 'volumeto': 12369916.81, 'close': 21235.77, 'conversionType': 'direct', 'conversionSymbol': ''}, {'time': 1667707200, 'high': 21252.39, 'low': 21216.41, 'open': 21235.77, 'volumefrom': 462.1, 'volumeto': 9812349.02, 'close': 21230.1, 'conversionType': 'direct', 'conversionSymbol': ''}, {'time': 1667710800, 'high': 21242.14, 'low': 21147.41, 'open': 21230.1, 'volumefrom': 998.1, 'volumeto': 21146456.48, 'close': 21156.94, 'conversionType': 'direct', 'conversionSymbol': ''}, {'time': 1667714400, 'high': 21190.07, 'low': 21148.51, 'open': 21156.94, 'volumefrom': 504.9, 'volumeto': 10687887.53, 'close': 21173.04, 'conversionType': 'direct', 'conversionSymbol': ''}, {'time': 1667718000, 'high': 21205.25, 'low': 21160.87, 'open': 21173.04, 'volumefrom': 609.21, 'volumeto': 12907684.61, 'close': 21194.79, 'conversionType': 'direct', 'conversionSymbol': ''}, {'time': 1667721600, 'high': 21304.87, 'low': 21177.53, 'open': 21194.79, 'volumefrom': 1244.82, 'volumeto': 26438719.88, 'close': 21251.25, 'conversionType': 'direct', 'conversionSymbol': ''}, {'time': 1667725200, 'high': 21295.83, 'low': 21234.38, 'open': 21251.25, 'volumefrom': 723.91, 'volumeto': 15392791.28, 'close': 21239.34, 'conversionType': 'direct', 'conversionSymbol': ''}, {'time': 1667728800, 'high': 21279.66, 'low': 21237.17, 'open': 21239.34, 'volumefrom': 509.39, 'volumeto': 10826829.87, 'close': 21266.05, 'conversionType': 'direct', 'conversionSymbol': ''}, {'time': 1667732400, 'high': 21275.19, 'low': 21181.02, 'open': 21266.05, 'volumefrom': 1043.23, 'volumeto': 22146088.21, 'close': 21253.49, 'conversionType': 'direct', 'conversionSymbol': ''}, {'time': 1667736000, 'high': 21269.22, 'low': 21219.45, 'open': 21253.49, 'volumefrom': 807.6, 'volumeto': 17154282.01, 'close': 21228.61, 'conversionType': 'direct', 'conversionSymbol': ''}, {'time': 1667739600, 'high': 21246.54, 'low': 21207.75, 'open': 21228.61, 'volumefrom': 904.96, 'volumeto': 19209020.35, 'close': 21217.3, 'conversionType': 'direct', 'conversionSymbol': ''}, {'time': 1667743200, 'high': 21257.58, 'low': 21191.46, 'open': 21217.3, 'volumefrom': 941.09, 'volumeto': 19976330.26, 'close': 21225.52, 'conversionType': 'direct', 'conversionSymbol': ''}, {'time': 1667746800, 'high': 21285.54, 'low': 21224.77, 'open': 21225.52, 'volumefrom': 1315.17, 'volumeto': 27969397.23, 'close': 21244.65, 'conversionType': 'direct', 'conversionSymbol': ''}, {'time': 1667750400, 'high': 21274.59, 'low': 21160, 'open': 21244.65, 'volumefrom': 1713.32, 'volumeto': 36365617.39, 'close': 21259.62, 'conversionType': 'direct', 'conversionSymbol': ''}, {'time': 1667754000, 'high': 21279.31, 'low': 21221.58, 'open': 21259.62, 'volumefrom': 911.44, 'volumeto': 19368668.35, 'close': 21250.35, 'conversionType': 'direct', 'conversionSymbol': ''}, {'time': 1667757600, 'high': 21250.35, 'low': 21199.08, 'open': 21250.35, 'volumefrom': 1110.84, 'volumeto': 23574129.11, 'close': 21222.53, 'conversionType': 'direct', 'conversionSymbol': ''}, {'time': 1667761200, 'high': 21237.34, 'low': 21172.92, 'open': 21222.53, 'volumefrom': 1242.25, 'volumeto': 26331830.01, 'close': 21197.55, 'conversionType': 'direct', 'conversionSymbol': ''}, {'time': 1667764800, 'high': 21207.67, 'low': 21161.85, 'open': 21197.55, 'volumefrom': 987.88, 'volumeto': 20928036.37, 'close': 21207.25, 'conversionType': 'direct', 'conversionSymbol': ''}, {'time': 1667768400, 'high': 21212.54, 'low': 21118.69, 'open': 21207.25, 'volumefrom': 1346.27, 'volumeto': 28502278.75, 'close': 21130.06, 'conversionType': 'direct', 'conversionSymbol': ''}, {'time': 1667772000, 'high': 21174.94, 'low': 21049.8, 'open': 21130.06, 'volumefrom': 1946.19, 'volumeto': 41100361.63, 'close': 21140.37, 'conversionType': 'direct', 'conversionSymbol': ''}, {'time': 1667775600, 'high': 21148.75, 'low': 20893.65, 'open': 21140.37, 'volumefrom': 3921.73, 'volumeto': 82316400.4, 'close': 20910.59, 'conversionType': 'direct', 'conversionSymbol': ''}, {'time': 1667779200, 'high': 20950.44, 'low': 20847.51, 'open': 20910.59, 'volumefrom': 3285.57, 'volumeto': 68692686.55, 'close': 20900.02, 'conversionType': 'direct', 'conversionSymbol': ''}, {'time': 1667782800, 'high': 20998.27, 'low': 20825.23, 'open': 20900.02, 'volumefrom': 3529.35, 'volumeto': 73781106.19, 'close': 20986.65, 'conversionType': 'direct', 'conversionSymbol': ''}, {'time': 1667786400, 'high': 21066.63, 'low': 20962.25, 'open': 20986.65, 'volumefrom': 2520.98, 'volumeto': 52953184.55, 'close': 20985.86, 'conversionType': 'direct', 'conversionSymbol': ''}, {'time': 1667790000, 'high': 20987.34, 'low': 20877.69, 'open': 20985.86, 'volumefrom': 2647.69, 'volumeto': 55368285, 'close': 20912.1, 'conversionType': 'direct', 'conversionSymbol': ''}, {'time': 1667793600, 'high': 20912.2, 'low': 20821.5, 'open': 20912.1, 'volumefrom': 2371.39, 'volumeto': 49475512.82, 'close': 20890.34, 'conversionType': 'direct', 'conversionSymbol': ''}, {'time': 1667797200, 'high': 20912.28, 'low': 20847.77, 'open': 20890.34, 'volumefrom': 1842.11, 'volumeto': 38463271.64, 'close': 20857.66, 'conversionType': 'direct', 'conversionSymbol': ''}, {'time': 1667800800, 'high': 20904.64, 'low': 20800.97, 'open': 20857.66, 'volumefrom': 2759.18, 'volumeto': 57537329.28, 'close': 20862.24, 'conversionType': 'direct', 'conversionSymbol': ''}, {'time': 1667804400, 'high': 20864.16, 'low': 20616.86, 'open': 20862.24, 'volumefrom': 4748.83, 'volumeto': 98459856.3, 'close': 20633.45, 'conversionType': 'direct', 'conversionSymbol': ''}, {'time': 1667808000, 'high': 20720.59, 'low': 20586.63, 'open': 20633.45, 'volumefrom': 3589.6, 'volumeto': 74179635.48, 'close': 20715.67, 'conversionType': 'direct', 'conversionSymbol': ''}, {'time': 1667811600, 'high': 20754.23, 'low': 20681.85, 'open': 20715.67, 'volumefrom': 1905, 'volumeto': 39486516.28, 'close': 20682.69, 'conversionType': 'direct', 'conversionSymbol': ''}, {'time': 1667815200, 'high': 20806.99, 'low': 20681.15, 'open': 20682.69, 'volumefrom': 2341.66, 'volumeto': 48612361.88, 'close': 20757.47, 'conversionType': 'direct', 'conversionSymbol': ''}, {'time': 1667818800, 'high': 20779.54, 'low': 20725.01, 'open': 20757.47, 'volumefrom': 1464.39, 'volumeto': 30387963.84, 'close': 20729.76, 'conversionType': 'direct', 'conversionSymbol': ''}, {'time': 1667822400, 'high': 20769.79, 'low': 20694.72, 'open': 20729.76, 'volumefrom': 2386.06, 'volumeto': 49455325.22, 'close': 20761.69, 'conversionType': 'direct', 'conversionSymbol': ''}, {'time': 1667826000, 'high': 20795.68, 'low': 20701.58, 'open': 20761.69, 'volumefrom': 2724.06, 'volumeto': 56501406.48, 'close': 20725.71, 'conversionType': 'direct', 'conversionSymbol': ''}, {'time': 1667829600, 'high': 20759.09, 'low': 20634.23, 'open': 20725.71, 'volumefrom': 4901.22, 'volumeto': 101421109.6, 'close': 20639.46, 'conversionType': 'direct', 'conversionSymbol': ''}, {'time': 1667833200, 'high': 20772.92, 'low': 20639.46, 'open': 20639.46, 'volumefrom': 4556.54, 'volumeto': 94393141.7, 'close': 20767.24, 'conversionType': 'direct', 'conversionSymbol': ''}, {'time': 1667836800, 'high': 20799.79, 'low': 20662.32, 'open': 20767.24, 'volumefrom': 2684.62, 'volumeto': 55693546.62, 'close': 20662.32, 'conversionType': 'direct', 'conversionSymbol': ''}, {'time': 1667840400, 'high': 20717.86, 'low': 20655.52, 'open': 20662.32, 'volumefrom': 1892.88, 'volumeto': 39163600.72, 'close': 20699.98, 'conversionType': 'direct', 'conversionSymbol': ''}, {'time': 1667844000, 'high': 20729.46, 'low': 20687.6, 'open': 20699.98, 'volumefrom': 2435.28, 'volumeto': 50433899.61, 'close': 20708.58, 'conversionType': 'direct', 'conversionSymbol': ''}, {'time': 1667847600, 'high': 20888.14, 'low': 20704.52, 'open': 20708.58, 'volumefrom': 2916.76, 'volumeto': 60676339.17, 'close': 20845.62, 'conversionType': 'direct', 'conversionSymbol': ''}, {'time': 1667851200, 'high': 20889, 'low': 20800.59, 'open': 20845.62, 'volumefrom': 2167.19, 'volumeto': 45178641.62, 'close': 20805.02, 'conversionType': 'direct', 'conversionSymbol': ''}, {'time': 1667854800, 'high': 20831.33, 'low': 20625.94, 'open': 20805.02, 'volumefrom': 2604.58, 'volumeto': 53964344.28, 'close': 20683.02, 'conversionType': 'direct', 'conversionSymbol': ''}, {'time': 1667858400, 'high': 20685, 'low': 20395.49, 'open': 20683.02, 'volumefrom': 5366.85, 'volumeto': 110207218.61, 'close': 20463.63, 'conversionType': 'direct', 'conversionSymbol': ''}, {'time': 1667862000, 'high': 20608.06, 'low': 20456.03, 'open': 20463.63, 'volumefrom': 4980.57, 'volumeto': 102327808.36, 'close': 20593.73, 'conversionType': 'direct', 'conversionSymbol': ''}, {'time': 1667865600, 'high': 20629.3, 'low': 20504.97, 'open': 20593.73, 'volumefrom': 3007.88, 'volumeto': 61890955.62, 'close': 20517.09, 'conversionType': 'direct', 'conversionSymbol': ''}, {'time': 1667869200, 'high': 20639.93, 'low': 20499.55, 'open': 20517.09, 'volumefrom': 1979.55, 'volumeto': 40771186.03, 'close': 20630.77, 'conversionType': 'direct', 'conversionSymbol': ''}, {'time': 1667872800, 'high': 20672.25, 'low': 20446.05, 'open': 20630.77, 'volumefrom': 2727.06, 'volumeto': 56145540.88, 'close': 20454.24, 'conversionType': 'direct', 'conversionSymbol': ''}, {'time': 1667876400, 'high': 20535.26, 'low': 20125.41, 'open': 20454.24, 'volumefrom': 10930.4, 'volumeto': 222394434.36, 'close': 20157.76, 'conversionType': 'direct', 'conversionSymbol': ''}, {'time': 1667880000, 'high': 20241.84, 'low': 19566.09, 'open': 20157.76, 'volumefrom': 14637.05, 'volumeto': 290102674.03, 'close': 19651.27, 'conversionType': 'direct', 'conversionSymbol': ''}, {'time': 1667883600, 'high': 19729.22, 'low': 19372.65, 'open': 19651.27, 'volumefrom': 10084.5, 'volumeto': 197576510.87, 'close': 19706.9, 'conversionType': 'direct', 'conversionSymbol': ''}, {'time': 1667887200, 'high': 19859.9, 'low': 19657.52, 'open': 19706.9, 'volumefrom': 5748.4, 'volumeto': 113619047.98, 'close': 19790.29, 'conversionType': 'direct', 'conversionSymbol': ''}, {'time': 1667890800, 'high': 19855.58, 'low': 19727.84, 'open': 19790.29, 'volumefrom': 3714.79, 'volumeto': 73518112.41, 'close': 19803.21, 'conversionType': 'direct', 'conversionSymbol': ''}, {'time': 1667894400, 'high': 19804.48, 'low': 19671.9, 'open': 19803.21, 'volumefrom': 4338.15, 'volumeto': 85605352.06, 'close': 19736, 'conversionType': 'direct', 'conversionSymbol': ''}, {'time': 1667898000, 'high': 19795.19, 'low': 19704.16, 'open': 19736, 'volumefrom': 2858.97, 'volumeto': 56478321.02, 'close': 19776.48, 'conversionType': 'direct', 'conversionSymbol': ''}, {'time': 1667901600, 'high': 19786.48, 'low': 19660.72, 'open': 19776.48, 'volumefrom': 2798.19, 'volumeto': 55204406.4, 'close': 19693.57, 'conversionType': 'direct', 'conversionSymbol': ''}, {'time': 1667905200, 'high': 19738.74, 'low': 19601.74, 'open': 19693.57, 'volumefrom': 3809.93, 'volumeto': 75011377.38, 'close': 19704.6, 'conversionType': 'direct', 'conversionSymbol': ''}, {'time': 1667908800, 'high': 19748.94, 'low': 19654.49, 'open': 19704.6, 'volumefrom': 2965.42, 'volumeto': 58424237.67, 'close': 19728.81, 'conversionType': 'direct', 'conversionSymbol': ''}, {'time': 1667912400, 'high': 19730.46, 'low': 19543.09, 'open': 19728.81, 'volumefrom': 4180.43, 'volumeto': 82148014.59, 'close': 19558, 'conversionType': 'direct', 'conversionSymbol': ''}, {'time': 1667916000, 'high': 19648.07, 'low': 19326.43, 'open': 19558, 'volumefrom': 10680.03, 'volumeto': 208113523.29, 'close': 19420.3, 'conversionType': 'direct', 'conversionSymbol': ''}, {'time': 1667919600, 'high': 19516.1, 'low': 19278.26, 'open': 19420.3, 'volumefrom': 9195.09, 'volumeto': 178343937.02, 'close': 19514.42, 'conversionType': 'direct', 'conversionSymbol': ''}, {'time': 1667923200, 'high': 20659.84, 'low': 19490.93, 'open': 19514.42, 'volumefrom': 18501.56, 'volumeto': 373890810.63, 'close': 20371.24, 'conversionType': 'direct', 'conversionSymbol': ''}, {'time': 1667926800, 'high': 20435.75, 'low': 19333.06, 'open': 20371.24, 'volumefrom': 14998.2, 'volumeto': 297893375.06, 'close': 19339.76, 'conversionType': 'direct', 'conversionSymbol': ''}, {'time': 1667930400, 'high': 19530.51, 'low': 18611.38, 'open': 19339.76, 'volumefrom': 23629.2, 'volumeto': 446173955.75, 'close': 18624.49, 'conversionType': 'direct', 'conversionSymbol': ''}, {'time': 1667934000, 'high': 18715.56, 'low': 17452.87, 'open': 18624.49, 'volumefrom': 23501.28, 'volumeto': 428123694.05, 'close': 18267.98, 'conversionType': 'direct', 'conversionSymbol': ''}, {'time': 1667937600, 'high': 18488.87, 'low': 17993.46, 'open': 18267.98, 'volumefrom': 14595.59, 'volumeto': 265715025.96, 'close': 18175, 'conversionType': 'direct', 'conversionSymbol': ''}, {'time': 1667941200, 'high': 18705.35, 'low': 18154.83, 'open': 18175, 'volumefrom': 8685.09, 'volumeto': 160029870.25, 'close': 18700.83, 'conversionType': 'direct', 'conversionSymbol': ''}, {'time': 1667944800, 'high': 18724.99, 'low': 18385.09, 'open': 18700.83, 'volumefrom': 5572.56, 'volumeto': 103432890.21, 'close': 18464.31, 'conversionType': 'direct', 'conversionSymbol': ''}, {'time': 1667948400, 'high': 18639.93, 'low': 18376.07, 'open': 18464.31, 'volumefrom': 5159.85, 'volumeto': 95472118.22, 'close': 18544.7, 'conversionType': 'direct', 'conversionSymbol': ''}, {'time': 1667952000, 'high': 18581.64, 'low': 18324.52, 'open': 18544.7, 'volumefrom': 5270.34, 'volumeto': 97319630.38, 'close': 18332.12, 'conversionType': 'direct', 'conversionSymbol': ''}, {'time': 1667955600, 'high': 18483.85, 'low': 18294.33, 'open': 18332.12, 'volumefrom': 5305.63, 'volumeto': 97625372.93, 'close': 18317.27, 'conversionType': 'direct', 'conversionSymbol': ''}, {'time': 1667959200, 'high': 18417.43, 'low': 18107.4, 'open': 18317.27, 'volumefrom': 5319.05, 'volumeto': 97170675.47, 'close': 18120.27, 'conversionType': 'direct', 'conversionSymbol': ''}, {'time': 1667962800, 'high': 18332.12, 'low': 17992.83, 'open': 18120.27, 'volumefrom': 5983.36, 'volumeto': 108663780.85, 'close': 18306.98, 'conversionType': 'direct', 'conversionSymbol': ''}, {'time': 1667966400, 'high': 18374.02, 'low': 18184.11, 'open': 18306.98, 'volumefrom': 4684.83, 'volumeto': 85625097.76, 'close': 18242.47, 'conversionType': 'direct', 'conversionSymbol': ''}, {'time': 1667970000, 'high': 18496.42, 'low': 18166.45, 'open': 18242.47, 'volumefrom': 4565.84, 'volumeto': 83670531.64, 'close': 18379.41, 'conversionType': 'direct', 'conversionSymbol': ''}, {'time': 1667973600, 'high': 18442.85, 'low': 18286.38, 'open': 18379.41, 'volumefrom': 3331.8, 'volumeto': 61229255.42, 'close': 18292.63, 'conversionType': 'direct', 'conversionSymbol': ''}, {'time': 1667977200, 'high': 18338.26, 'low': 18197.56, 'open': 18292.63, 'volumefrom': 3319.57, 'volumeto': 60669536.49, 'close': 18229.32, 'conversionType': 'direct', 'conversionSymbol': ''}, {'time': 1667980800, 'high': 18243.84, 'low': 18037.16, 'open': 18229.32, 'volumefrom': 5860.4, 'volumeto': 106222509.24, 'close': 18140.04, 'conversionType': 'direct', 'conversionSymbol': ''}, {'time': 1667984400, 'high': 18142.43, 'low': 18092.59, 'open': 18140.04, 'volumefrom': 241.51, 'volumeto': 4374162.07, 'close': 18098.78, 'conversionType': 'direct', 'conversionSymbol': ''}]}}\n"
     ]
    }
   ],
   "source": [
    "import requests\n",
    "apiKey = \"8c59361d9d05e34d6047ef8ded4d83eb4af66a676abd6bffd3d557d01ea798a7\"\n",
    "crypto = \"BTC\"\n",
    "header = 'fsym=' + str(crypto)\n",
    "maxRecords = 100\n",
    "frequency = \"hour\"\n",
    "API_KEY = '&api_key=' + str(apiKey)\n",
    "limit = '&limit=' + str(maxRecords)\n",
    "currency = '&tsym=USD'\n",
    "url = 'https://min-api.cryptocompare.com/data/v2/histo' + frequency + '?' + header + currency + API_KEY + limit\n",
    "print(url)\n",
    "response = requests.get(url).json()\n",
    "print(response)"
   ]
  },
  {
   "cell_type": "markdown",
   "metadata": {},
   "source": [
    "GET: Block Chain"
   ]
  },
  {
   "cell_type": "code",
   "execution_count": 9,
   "metadata": {},
   "outputs": [
    {
     "ename": "TypeError",
     "evalue": "'module' object is not callable",
     "output_type": "error",
     "traceback": [
      "\u001b[1;31m---------------------------------------------------------------------------\u001b[0m",
      "\u001b[1;31mTypeError\u001b[0m                                 Traceback (most recent call last)",
      "\u001b[1;32m~\\AppData\\Local\\Temp\\ipykernel_4300\\2565302217.py\u001b[0m in \u001b[0;36m<module>\u001b[1;34m\u001b[0m\n\u001b[0;32m      7\u001b[0m \u001b[0murl\u001b[0m \u001b[1;33m=\u001b[0m \u001b[1;34m'https://min-api.cryptocompare.com/data/blockchain/'\u001b[0m\u001b[1;33m+\u001b[0m\u001b[0mtype\u001b[0m\u001b[1;33m\u001b[0m\u001b[1;33m\u001b[0m\u001b[0m\n\u001b[0;32m      8\u001b[0m \u001b[0mresponse\u001b[0m \u001b[1;33m=\u001b[0m \u001b[0mrequests\u001b[0m\u001b[1;33m.\u001b[0m\u001b[0mget\u001b[0m\u001b[1;33m(\u001b[0m\u001b[0murl\u001b[0m\u001b[1;33m)\u001b[0m\u001b[1;33m.\u001b[0m\u001b[0mjson\u001b[0m\u001b[1;33m(\u001b[0m\u001b[1;33m)\u001b[0m\u001b[1;33m\u001b[0m\u001b[1;33m\u001b[0m\u001b[0m\n\u001b[1;32m----> 9\u001b[1;33m \u001b[0mdf\u001b[0m \u001b[1;33m=\u001b[0m \u001b[0mpd\u001b[0m\u001b[1;33m(\u001b[0m\u001b[0mresponse\u001b[0m\u001b[1;33m,\u001b[0m\u001b[0morient\u001b[0m\u001b[1;33m=\u001b[0m\u001b[1;34m\"index\"\u001b[0m\u001b[1;33m)\u001b[0m\u001b[1;33m\u001b[0m\u001b[1;33m\u001b[0m\u001b[0m\n\u001b[0m\u001b[0;32m     10\u001b[0m \u001b[1;33m\u001b[0m\u001b[0m\n\u001b[0;32m     11\u001b[0m \u001b[0mprint\u001b[0m\u001b[1;33m(\u001b[0m\u001b[0murl\u001b[0m\u001b[1;33m)\u001b[0m\u001b[1;33m\u001b[0m\u001b[1;33m\u001b[0m\u001b[0m\n",
      "\u001b[1;31mTypeError\u001b[0m: 'module' object is not callable"
     ]
    }
   ],
   "source": [
    "Link_BlockChain = \"https://min-api.cryptocompare.com/data/blockchain/list\"\n",
    "\n",
    "import requests\n",
    "import pandas as pd\n",
    "apiKey = \"8c59361d9d05e34d6047ef8ded4d83eb4af66a676abd6bffd3d557d01ea798a7\"\n",
    "type = 'list'\n",
    "url = 'https://min-api.cryptocompare.com/data/blockchain/'+type\n",
    "response = requests.get(url).json()\n",
    "df = pd(response,orient=\"index\")\n",
    "\n",
    "print(url)\n",
    "\n",
    "print(df)\n",
    "\n"
   ]
  },
  {
   "cell_type": "markdown",
   "metadata": {},
   "source": [
    "GET: Trading Signals"
   ]
  },
  {
   "cell_type": "code",
   "execution_count": null,
   "metadata": {},
   "outputs": [],
   "source": []
  }
 ],
 "metadata": {
  "kernelspec": {
   "display_name": "Python 3.7.13 ('python_course')",
   "language": "python",
   "name": "python3"
  },
  "language_info": {
   "codemirror_mode": {
    "name": "ipython",
    "version": 3
   },
   "file_extension": ".py",
   "mimetype": "text/x-python",
   "name": "python",
   "nbconvert_exporter": "python",
   "pygments_lexer": "ipython3",
   "version": "3.7.13"
  },
  "orig_nbformat": 4,
  "vscode": {
   "interpreter": {
    "hash": "ec34aa38ac539c519b7744867197572079d9fa73b2a844201618a04fcc58de8b"
   }
  }
 },
 "nbformat": 4,
 "nbformat_minor": 2
}
